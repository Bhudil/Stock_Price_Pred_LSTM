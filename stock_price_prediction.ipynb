{
 "cells": [
  {
   "cell_type": "code",
   "execution_count": 1,
   "id": "14f2e107-f6bc-47a5-ae93-83b6929e803c",
   "metadata": {
    "tags": []
   },
   "outputs": [],
   "source": [
    "import pandas as pd\n",
    "import numpy as np"
   ]
  },
  {
   "cell_type": "code",
   "execution_count": 2,
   "id": "59ca82cf-c301-4204-9c62-b1051d2ace68",
   "metadata": {
    "tags": []
   },
   "outputs": [],
   "source": [
    "train_df = pd.read_csv(\"C:/Users/bhudi/Downloads/trainset.csv\")"
   ]
  },
  {
   "cell_type": "code",
   "execution_count": 3,
   "id": "bab26dc9-d3b7-4fd4-8a70-a96aa315d2c6",
   "metadata": {
    "tags": []
   },
   "outputs": [
    {
     "data": {
      "text/html": [
       "<div>\n",
       "<style scoped>\n",
       "    .dataframe tbody tr th:only-of-type {\n",
       "        vertical-align: middle;\n",
       "    }\n",
       "\n",
       "    .dataframe tbody tr th {\n",
       "        vertical-align: top;\n",
       "    }\n",
       "\n",
       "    .dataframe thead th {\n",
       "        text-align: right;\n",
       "    }\n",
       "</style>\n",
       "<table border=\"1\" class=\"dataframe\">\n",
       "  <thead>\n",
       "    <tr style=\"text-align: right;\">\n",
       "      <th></th>\n",
       "      <th>Date</th>\n",
       "      <th>Open</th>\n",
       "      <th>High</th>\n",
       "      <th>Low</th>\n",
       "      <th>Close</th>\n",
       "      <th>Adj Close</th>\n",
       "      <th>Volume</th>\n",
       "    </tr>\n",
       "  </thead>\n",
       "  <tbody>\n",
       "    <tr>\n",
       "      <th>0</th>\n",
       "      <td>2013-01-02</td>\n",
       "      <td>357.385559</td>\n",
       "      <td>361.151062</td>\n",
       "      <td>355.959839</td>\n",
       "      <td>359.288177</td>\n",
       "      <td>359.288177</td>\n",
       "      <td>5115500</td>\n",
       "    </tr>\n",
       "    <tr>\n",
       "      <th>1</th>\n",
       "      <td>2013-01-03</td>\n",
       "      <td>360.122742</td>\n",
       "      <td>363.600128</td>\n",
       "      <td>358.031342</td>\n",
       "      <td>359.496826</td>\n",
       "      <td>359.496826</td>\n",
       "      <td>4666500</td>\n",
       "    </tr>\n",
       "    <tr>\n",
       "      <th>2</th>\n",
       "      <td>2013-01-04</td>\n",
       "      <td>362.313507</td>\n",
       "      <td>368.339294</td>\n",
       "      <td>361.488861</td>\n",
       "      <td>366.600616</td>\n",
       "      <td>366.600616</td>\n",
       "      <td>5562800</td>\n",
       "    </tr>\n",
       "    <tr>\n",
       "      <th>3</th>\n",
       "      <td>2013-01-07</td>\n",
       "      <td>365.348755</td>\n",
       "      <td>367.301056</td>\n",
       "      <td>362.929504</td>\n",
       "      <td>365.001007</td>\n",
       "      <td>365.001007</td>\n",
       "      <td>3332900</td>\n",
       "    </tr>\n",
       "    <tr>\n",
       "      <th>4</th>\n",
       "      <td>2013-01-08</td>\n",
       "      <td>365.393463</td>\n",
       "      <td>365.771027</td>\n",
       "      <td>359.874359</td>\n",
       "      <td>364.280701</td>\n",
       "      <td>364.280701</td>\n",
       "      <td>3373900</td>\n",
       "    </tr>\n",
       "  </tbody>\n",
       "</table>\n",
       "</div>"
      ],
      "text/plain": [
       "         Date        Open        High         Low       Close   Adj Close  \\\n",
       "0  2013-01-02  357.385559  361.151062  355.959839  359.288177  359.288177   \n",
       "1  2013-01-03  360.122742  363.600128  358.031342  359.496826  359.496826   \n",
       "2  2013-01-04  362.313507  368.339294  361.488861  366.600616  366.600616   \n",
       "3  2013-01-07  365.348755  367.301056  362.929504  365.001007  365.001007   \n",
       "4  2013-01-08  365.393463  365.771027  359.874359  364.280701  364.280701   \n",
       "\n",
       "    Volume  \n",
       "0  5115500  \n",
       "1  4666500  \n",
       "2  5562800  \n",
       "3  3332900  \n",
       "4  3373900  "
      ]
     },
     "execution_count": 3,
     "metadata": {},
     "output_type": "execute_result"
    }
   ],
   "source": [
    "train_df.head()"
   ]
  },
  {
   "cell_type": "code",
   "execution_count": 4,
   "id": "5bf21c8a-4a06-4e10-8e6b-afedcd7e0a33",
   "metadata": {
    "tags": []
   },
   "outputs": [],
   "source": [
    "train=train_df.iloc[:,1:2].values"
   ]
  },
  {
   "cell_type": "code",
   "execution_count": 5,
   "id": "28386ef3-322d-4474-8611-f10bb6b941e1",
   "metadata": {
    "tags": []
   },
   "outputs": [
    {
     "data": {
      "text/plain": [
       "array([[ 357.385559],\n",
       "       [ 360.122742],\n",
       "       [ 362.313507],\n",
       "       ...,\n",
       "       [1057.390015],\n",
       "       [1051.599976],\n",
       "       [1046.719971]])"
      ]
     },
     "execution_count": 5,
     "metadata": {},
     "output_type": "execute_result"
    }
   ],
   "source": [
    "train"
   ]
  },
  {
   "cell_type": "code",
   "execution_count": 6,
   "id": "c4a75ec6-268f-4e1d-8647-f4748c4cca99",
   "metadata": {
    "tags": []
   },
   "outputs": [],
   "source": [
    "from sklearn.preprocessing import MinMaxScaler"
   ]
  },
  {
   "cell_type": "code",
   "execution_count": 7,
   "id": "e5ce6476-b366-4d22-85b0-68db2daf08ec",
   "metadata": {
    "tags": []
   },
   "outputs": [],
   "source": [
    "sc = MinMaxScaler(feature_range = (0,1))\n",
    "training_scaled = sc.fit_transform(train)"
   ]
  },
  {
   "cell_type": "code",
   "execution_count": 8,
   "id": "2226d7ae-d9e0-4311-894b-a2ebccda9a6a",
   "metadata": {
    "tags": []
   },
   "outputs": [
    {
     "data": {
      "text/plain": [
       "array([[0.01011148],\n",
       "       [0.01388614],\n",
       "       [0.01690727],\n",
       "       ...,\n",
       "       [0.97543954],\n",
       "       [0.9674549 ],\n",
       "       [0.96072522]])"
      ]
     },
     "execution_count": 8,
     "metadata": {},
     "output_type": "execute_result"
    }
   ],
   "source": [
    "training_scaled"
   ]
  },
  {
   "cell_type": "code",
   "execution_count": 9,
   "id": "505040f7-8777-47ac-8fc9-e945aec390eb",
   "metadata": {
    "tags": []
   },
   "outputs": [],
   "source": [
    "x_train = []\n",
    "y_train = []"
   ]
  },
  {
   "cell_type": "code",
   "execution_count": 10,
   "id": "4ca17fa8-ace6-44d5-8a81-52305454c134",
   "metadata": {
    "tags": []
   },
   "outputs": [],
   "source": [
    "for i in range(60,1259):\n",
    "    x_train.append(training_scaled[i-60:i, 0])\n",
    "    y_train.append(training_scaled[i,0])"
   ]
  },
  {
   "cell_type": "code",
   "execution_count": 11,
   "id": "c24ebe59-e8d2-4ce3-8ac9-77b0372887d4",
   "metadata": {
    "tags": []
   },
   "outputs": [],
   "source": [
    "x_train,y_train = np.array(x_train),np.array(y_train)"
   ]
  },
  {
   "cell_type": "code",
   "execution_count": 12,
   "id": "6f34eb6f-0aeb-4987-9322-69302263ad61",
   "metadata": {
    "tags": []
   },
   "outputs": [],
   "source": [
    "x_train = np.reshape(x_train, (x_train.shape[0],x_train.shape[1],1))"
   ]
  },
  {
   "cell_type": "code",
   "execution_count": 13,
   "id": "c874c247-0648-450b-91bc-ea120066cd68",
   "metadata": {
    "tags": []
   },
   "outputs": [],
   "source": [
    "from keras.models import Sequential\n",
    "from keras.layers import Dense\n",
    "from keras.layers import LSTM, Bidirectional\n",
    "from keras.layers import Dropout\n",
    "from keras.callbacks import EarlyStopping"
   ]
  },
  {
   "cell_type": "code",
   "execution_count": 14,
   "id": "972e3a3a-73ad-45a9-a8e7-64593b4fc6a0",
   "metadata": {
    "tags": []
   },
   "outputs": [],
   "source": [
    "early_stopping = EarlyStopping(monitor='loss', patience=10, verbose=1, mode='min')"
   ]
  },
  {
   "cell_type": "code",
   "execution_count": 15,
   "id": "128f5b4b-4010-4ea1-be3e-60db1532fae5",
   "metadata": {
    "tags": []
   },
   "outputs": [],
   "source": [
    "model = Sequential()\n",
    "model.add(LSTM(units=100, return_sequences=True, input_shape=(60, 1)))\n",
    "model.add(Dropout(0.2))\n",
    "model.add(Bidirectional(LSTM(units=100, return_sequences=True)))\n",
    "model.add(Dropout(0.2))\n",
    "model.add(LSTM(units=100))\n",
    "model.add(Dropout(0.2))\n",
    "model.add(Dense(10, activation='relu'))\n",
    "model.add(Dense(1))\n",
    "model.compile(loss='mean_squared_error', optimizer='adam')"
   ]
  },
  {
   "cell_type": "code",
   "execution_count": 16,
   "id": "767a601a-1562-4f8d-bd25-1e0b3216d595",
   "metadata": {
    "tags": []
   },
   "outputs": [
    {
     "name": "stdout",
     "output_type": "stream",
     "text": [
      "Model: \"sequential\"\n",
      "_________________________________________________________________\n",
      " Layer (type)                Output Shape              Param #   \n",
      "=================================================================\n",
      " lstm (LSTM)                 (None, 60, 100)           40800     \n",
      "                                                                 \n",
      " dropout (Dropout)           (None, 60, 100)           0         \n",
      "                                                                 \n",
      " bidirectional (Bidirection  (None, 60, 200)           160800    \n",
      " al)                                                             \n",
      "                                                                 \n",
      " dropout_1 (Dropout)         (None, 60, 200)           0         \n",
      "                                                                 \n",
      " lstm_2 (LSTM)               (None, 100)               120400    \n",
      "                                                                 \n",
      " dropout_2 (Dropout)         (None, 100)               0         \n",
      "                                                                 \n",
      " dense (Dense)               (None, 10)                1010      \n",
      "                                                                 \n",
      " dense_1 (Dense)             (None, 1)                 11        \n",
      "                                                                 \n",
      "=================================================================\n",
      "Total params: 323021 (1.23 MB)\n",
      "Trainable params: 323021 (1.23 MB)\n",
      "Non-trainable params: 0 (0.00 Byte)\n",
      "_________________________________________________________________\n"
     ]
    }
   ],
   "source": [
    "model.summary()"
   ]
  },
  {
   "cell_type": "code",
   "execution_count": 17,
   "id": "b41fd12c-15d6-40cd-8556-e4910a123443",
   "metadata": {
    "scrolled": true,
    "tags": []
   },
   "outputs": [
    {
     "name": "stdout",
     "output_type": "stream",
     "text": [
      "Epoch 1/150\n",
      "38/38 - 11s - loss: 0.0229 - 11s/epoch - 296ms/step\n",
      "Epoch 2/150\n",
      "38/38 - 3s - loss: 0.0028 - 3s/epoch - 85ms/step\n",
      "Epoch 3/150\n",
      "38/38 - 3s - loss: 0.0023 - 3s/epoch - 84ms/step\n",
      "Epoch 4/150\n",
      "38/38 - 3s - loss: 0.0025 - 3s/epoch - 90ms/step\n",
      "Epoch 5/150\n",
      "38/38 - 3s - loss: 0.0020 - 3s/epoch - 86ms/step\n",
      "Epoch 6/150\n",
      "38/38 - 3s - loss: 0.0019 - 3s/epoch - 90ms/step\n",
      "Epoch 7/150\n",
      "38/38 - 4s - loss: 0.0019 - 4s/epoch - 101ms/step\n",
      "Epoch 8/150\n",
      "38/38 - 3s - loss: 0.0019 - 3s/epoch - 87ms/step\n",
      "Epoch 9/150\n",
      "38/38 - 4s - loss: 0.0021 - 4s/epoch - 94ms/step\n",
      "Epoch 10/150\n",
      "38/38 - 4s - loss: 0.0022 - 4s/epoch - 95ms/step\n",
      "Epoch 11/150\n",
      "38/38 - 3s - loss: 0.0015 - 3s/epoch - 89ms/step\n",
      "Epoch 12/150\n",
      "38/38 - 3s - loss: 0.0020 - 3s/epoch - 88ms/step\n",
      "Epoch 13/150\n",
      "38/38 - 4s - loss: 0.0017 - 4s/epoch - 99ms/step\n",
      "Epoch 14/150\n",
      "38/38 - 4s - loss: 0.0015 - 4s/epoch - 99ms/step\n",
      "Epoch 15/150\n",
      "38/38 - 4s - loss: 0.0013 - 4s/epoch - 98ms/step\n",
      "Epoch 16/150\n",
      "38/38 - 4s - loss: 0.0014 - 4s/epoch - 100ms/step\n",
      "Epoch 17/150\n",
      "38/38 - 4s - loss: 0.0017 - 4s/epoch - 97ms/step\n",
      "Epoch 18/150\n",
      "38/38 - 4s - loss: 0.0014 - 4s/epoch - 93ms/step\n",
      "Epoch 19/150\n",
      "38/38 - 4s - loss: 0.0015 - 4s/epoch - 98ms/step\n",
      "Epoch 20/150\n",
      "38/38 - 4s - loss: 0.0012 - 4s/epoch - 93ms/step\n",
      "Epoch 21/150\n",
      "38/38 - 3s - loss: 0.0012 - 3s/epoch - 92ms/step\n",
      "Epoch 22/150\n",
      "38/38 - 4s - loss: 0.0015 - 4s/epoch - 94ms/step\n",
      "Epoch 23/150\n",
      "38/38 - 4s - loss: 0.0011 - 4s/epoch - 103ms/step\n",
      "Epoch 24/150\n",
      "38/38 - 4s - loss: 0.0012 - 4s/epoch - 101ms/step\n",
      "Epoch 25/150\n",
      "38/38 - 4s - loss: 0.0014 - 4s/epoch - 93ms/step\n",
      "Epoch 26/150\n",
      "38/38 - 4s - loss: 0.0011 - 4s/epoch - 100ms/step\n",
      "Epoch 27/150\n",
      "38/38 - 4s - loss: 9.8428e-04 - 4s/epoch - 99ms/step\n",
      "Epoch 28/150\n",
      "38/38 - 4s - loss: 0.0013 - 4s/epoch - 94ms/step\n",
      "Epoch 29/150\n",
      "38/38 - 4s - loss: 0.0011 - 4s/epoch - 102ms/step\n",
      "Epoch 30/150\n",
      "38/38 - 4s - loss: 0.0010 - 4s/epoch - 98ms/step\n",
      "Epoch 31/150\n",
      "38/38 - 4s - loss: 9.1008e-04 - 4s/epoch - 101ms/step\n",
      "Epoch 32/150\n",
      "38/38 - 4s - loss: 0.0010 - 4s/epoch - 100ms/step\n",
      "Epoch 33/150\n",
      "38/38 - 4s - loss: 0.0010 - 4s/epoch - 107ms/step\n",
      "Epoch 34/150\n",
      "38/38 - 4s - loss: 8.8024e-04 - 4s/epoch - 99ms/step\n",
      "Epoch 35/150\n",
      "38/38 - 4s - loss: 9.1257e-04 - 4s/epoch - 93ms/step\n",
      "Epoch 36/150\n",
      "38/38 - 4s - loss: 9.9949e-04 - 4s/epoch - 96ms/step\n",
      "Epoch 37/150\n",
      "38/38 - 4s - loss: 0.0010 - 4s/epoch - 99ms/step\n",
      "Epoch 38/150\n",
      "38/38 - 4s - loss: 8.3895e-04 - 4s/epoch - 96ms/step\n",
      "Epoch 39/150\n",
      "38/38 - 4s - loss: 8.0860e-04 - 4s/epoch - 96ms/step\n",
      "Epoch 40/150\n",
      "38/38 - 4s - loss: 8.4375e-04 - 4s/epoch - 100ms/step\n",
      "Epoch 41/150\n",
      "38/38 - 4s - loss: 8.1279e-04 - 4s/epoch - 101ms/step\n",
      "Epoch 42/150\n",
      "38/38 - 4s - loss: 8.6289e-04 - 4s/epoch - 106ms/step\n",
      "Epoch 43/150\n",
      "38/38 - 4s - loss: 7.7577e-04 - 4s/epoch - 94ms/step\n",
      "Epoch 44/150\n",
      "38/38 - 4s - loss: 9.1547e-04 - 4s/epoch - 95ms/step\n",
      "Epoch 45/150\n",
      "38/38 - 4s - loss: 7.8855e-04 - 4s/epoch - 94ms/step\n",
      "Epoch 46/150\n",
      "38/38 - 4s - loss: 7.6157e-04 - 4s/epoch - 95ms/step\n",
      "Epoch 47/150\n",
      "38/38 - 4s - loss: 7.0355e-04 - 4s/epoch - 93ms/step\n",
      "Epoch 48/150\n",
      "38/38 - 4s - loss: 9.6150e-04 - 4s/epoch - 94ms/step\n",
      "Epoch 49/150\n",
      "38/38 - 4s - loss: 9.7465e-04 - 4s/epoch - 94ms/step\n",
      "Epoch 50/150\n",
      "38/38 - 4s - loss: 8.0018e-04 - 4s/epoch - 93ms/step\n",
      "Epoch 51/150\n",
      "38/38 - 4s - loss: 7.2186e-04 - 4s/epoch - 98ms/step\n",
      "Epoch 52/150\n",
      "38/38 - 4s - loss: 6.9022e-04 - 4s/epoch - 99ms/step\n",
      "Epoch 53/150\n",
      "38/38 - 4s - loss: 7.6580e-04 - 4s/epoch - 94ms/step\n",
      "Epoch 54/150\n",
      "38/38 - 4s - loss: 6.7198e-04 - 4s/epoch - 95ms/step\n",
      "Epoch 55/150\n",
      "38/38 - 4s - loss: 7.7171e-04 - 4s/epoch - 94ms/step\n",
      "Epoch 56/150\n",
      "38/38 - 4s - loss: 6.6982e-04 - 4s/epoch - 94ms/step\n",
      "Epoch 57/150\n",
      "38/38 - 4s - loss: 6.3807e-04 - 4s/epoch - 94ms/step\n",
      "Epoch 58/150\n",
      "38/38 - 4s - loss: 7.3966e-04 - 4s/epoch - 93ms/step\n",
      "Epoch 59/150\n",
      "38/38 - 4s - loss: 6.4308e-04 - 4s/epoch - 94ms/step\n",
      "Epoch 60/150\n",
      "38/38 - 4s - loss: 7.5299e-04 - 4s/epoch - 94ms/step\n",
      "Epoch 61/150\n",
      "38/38 - 4s - loss: 8.5764e-04 - 4s/epoch - 96ms/step\n",
      "Epoch 62/150\n",
      "38/38 - 4s - loss: 7.0005e-04 - 4s/epoch - 102ms/step\n",
      "Epoch 63/150\n",
      "38/38 - 4s - loss: 5.9048e-04 - 4s/epoch - 93ms/step\n",
      "Epoch 64/150\n",
      "38/38 - 3s - loss: 6.6856e-04 - 3s/epoch - 92ms/step\n",
      "Epoch 65/150\n",
      "38/38 - 3s - loss: 6.0781e-04 - 3s/epoch - 92ms/step\n",
      "Epoch 66/150\n",
      "38/38 - 4s - loss: 6.1717e-04 - 4s/epoch - 93ms/step\n",
      "Epoch 67/150\n",
      "38/38 - 4s - loss: 5.3993e-04 - 4s/epoch - 92ms/step\n",
      "Epoch 68/150\n",
      "38/38 - 4s - loss: 6.1326e-04 - 4s/epoch - 95ms/step\n",
      "Epoch 69/150\n",
      "38/38 - 4s - loss: 6.0075e-04 - 4s/epoch - 97ms/step\n",
      "Epoch 70/150\n",
      "38/38 - 4s - loss: 5.9507e-04 - 4s/epoch - 96ms/step\n",
      "Epoch 71/150\n",
      "38/38 - 4s - loss: 7.1651e-04 - 4s/epoch - 98ms/step\n",
      "Epoch 72/150\n",
      "38/38 - 4s - loss: 6.8448e-04 - 4s/epoch - 95ms/step\n",
      "Epoch 73/150\n",
      "38/38 - 4s - loss: 5.7369e-04 - 4s/epoch - 94ms/step\n",
      "Epoch 74/150\n",
      "38/38 - 4s - loss: 6.1718e-04 - 4s/epoch - 94ms/step\n",
      "Epoch 75/150\n",
      "38/38 - 4s - loss: 5.7839e-04 - 4s/epoch - 94ms/step\n",
      "Epoch 76/150\n",
      "38/38 - 4s - loss: 5.7900e-04 - 4s/epoch - 94ms/step\n",
      "Epoch 77/150\n",
      "38/38 - 4s - loss: 5.6868e-04 - 4s/epoch - 96ms/step\n",
      "Epoch 77: early stopping\n"
     ]
    },
    {
     "data": {
      "text/plain": [
       "<keras.src.callbacks.History at 0x2d81539ea10>"
      ]
     },
     "execution_count": 17,
     "metadata": {},
     "output_type": "execute_result"
    }
   ],
   "source": [
    "model.fit(x_train,y_train,epochs = 150, batch_size = 32, callbacks=[early_stopping],verbose=2)"
   ]
  },
  {
   "cell_type": "code",
   "execution_count": 18,
   "id": "5c16a6a9-eebd-4ab5-8799-b0fbd1191c85",
   "metadata": {
    "tags": []
   },
   "outputs": [],
   "source": [
    "dataset_test =pd.read_csv(\"C:/Users/bhudi/Downloads/testset.csv\")"
   ]
  },
  {
   "cell_type": "code",
   "execution_count": 19,
   "id": "a6bd94b2-e38a-41f5-a5d2-a3b0ea4b836d",
   "metadata": {
    "tags": []
   },
   "outputs": [],
   "source": [
    "real_stock_price = dataset_test.iloc[:,1:2].values"
   ]
  },
  {
   "cell_type": "code",
   "execution_count": 21,
   "id": "09451e5f-f2a0-4d04-bcfc-7abac4e60f6c",
   "metadata": {
    "tags": []
   },
   "outputs": [
    {
     "data": {
      "text/plain": [
       "0       357.385559\n",
       "1       360.122742\n",
       "2       362.313507\n",
       "3       365.348755\n",
       "4       365.393463\n",
       "          ...     \n",
       "120    1143.599976\n",
       "121    1128.000000\n",
       "122    1121.339966\n",
       "123    1102.089966\n",
       "124    1120.000000\n",
       "Name: Open, Length: 1384, dtype: float64"
      ]
     },
     "execution_count": 21,
     "metadata": {},
     "output_type": "execute_result"
    }
   ],
   "source": [
    "dataset_total = pd.concat((train_df['Open'],dataset_test['Open']),axis = 0)\n",
    "dataset_total"
   ]
  },
  {
   "cell_type": "code",
   "execution_count": 22,
   "id": "e845aee8-f423-47c8-8f4a-5af636719ffb",
   "metadata": {
    "scrolled": true,
    "tags": []
   },
   "outputs": [
    {
     "data": {
      "text/plain": [
       "array([ 955.48999 ,  966.700012,  980.      ,  980.      ,  973.719971,\n",
       "        987.450012,  992.      ,  992.099976,  990.289978,  991.77002 ,\n",
       "        986.      ,  989.440002,  989.52002 ,  970.      ,  968.369995,\n",
       "        980.      , 1009.190002, 1014.      , 1015.219971, 1017.210022,\n",
       "       1021.76001 , 1022.109985, 1028.98999 , 1027.27002 , 1030.52002 ,\n",
       "       1033.98999 , 1026.459961, 1023.419983, 1022.590027, 1019.210022,\n",
       "       1022.52002 , 1034.01001 , 1020.26001 , 1023.309998, 1035.      ,\n",
       "       1035.869995, 1040.      , 1055.089966, 1042.680054, 1022.369995,\n",
       "       1015.799988, 1012.659973,  995.940002, 1001.5     , 1020.429993,\n",
       "       1037.48999 , 1035.5     , 1039.630005, 1046.119995, 1045.      ,\n",
       "       1054.609985, 1066.079956, 1075.199951, 1071.780029, 1064.949951,\n",
       "       1061.109985, 1058.069946, 1057.390015, 1051.599976, 1046.719971,\n",
       "       1048.339966, 1064.310059, 1088.      , 1094.      , 1102.22998 ,\n",
       "       1109.400024, 1097.099976, 1106.300049, 1102.410034, 1132.51001 ,\n",
       "       1126.219971, 1131.410034, 1131.829956, 1137.48999 , 1159.849976,\n",
       "       1177.329956, 1172.530029, 1175.079956, 1176.47998 , 1167.829956,\n",
       "       1170.569946, 1162.609985, 1122.      , 1090.599976, 1027.180054,\n",
       "       1081.540039, 1055.410034, 1017.25    , 1048.      , 1045.      ,\n",
       "       1048.949951, 1079.069946, 1088.410034, 1090.569946, 1106.469971,\n",
       "       1116.189941, 1112.640015, 1127.800049, 1141.23999 , 1123.030029,\n",
       "       1107.869995, 1053.079956, 1075.140015, 1099.219971, 1089.189941,\n",
       "       1115.319946, 1136.      , 1163.849976, 1170.      , 1145.209961,\n",
       "       1149.959961, 1154.140015, 1120.01001 , 1099.      , 1092.73999 ,\n",
       "       1081.880005, 1047.030029, 1046.      , 1063.      ,  998.      ,\n",
       "       1011.630005, 1022.820007, 1013.909973,  993.409973, 1041.329956,\n",
       "       1020.      , 1016.799988, 1026.439941, 1027.98999 , 1025.040039,\n",
       "       1040.880005, 1037.      , 1051.369995, 1077.430054, 1069.400024,\n",
       "       1082.      , 1077.859985, 1052.      , 1025.52002 , 1029.51001 ,\n",
       "       1046.      , 1030.01001 , 1013.659973, 1028.099976, 1019.      ,\n",
       "       1016.900024, 1049.22998 , 1058.540039, 1058.099976, 1086.030029,\n",
       "       1093.599976, 1100.      , 1090.      , 1077.310059, 1079.890015,\n",
       "       1061.859985, 1074.060059, 1083.560059, 1065.130005, 1079.      ,\n",
       "       1079.02002 , 1064.890015, 1063.030029, 1067.560059, 1099.349976,\n",
       "       1122.329956, 1140.98999 , 1142.170044, 1131.319946, 1118.180054,\n",
       "       1118.599976, 1131.069946, 1141.119995, 1143.849976, 1148.859985,\n",
       "       1143.650024, 1158.5     , 1175.310059, 1174.849976, 1159.140015,\n",
       "       1143.599976, 1128.      , 1121.339966, 1102.089966, 1120.      ])"
      ]
     },
     "execution_count": 22,
     "metadata": {},
     "output_type": "execute_result"
    }
   ],
   "source": [
    "inputs = dataset_total[len(dataset_total) - len(dataset_test)-60:].values\n",
    "inputs"
   ]
  },
  {
   "cell_type": "code",
   "execution_count": 23,
   "id": "f3387cf2-4fd4-4026-84f0-cad513bf4705",
   "metadata": {
    "tags": []
   },
   "outputs": [],
   "source": [
    "inputs = inputs.reshape(-1,1)"
   ]
  },
  {
   "cell_type": "code",
   "execution_count": 24,
   "id": "02b1e7e5-e686-430d-b97c-9d0d6507d0a4",
   "metadata": {
    "tags": []
   },
   "outputs": [
    {
     "data": {
      "text/plain": [
       "(185, 1)"
      ]
     },
     "execution_count": 24,
     "metadata": {},
     "output_type": "execute_result"
    }
   ],
   "source": [
    "inputs = sc.transform(inputs)\n",
    "inputs.shape"
   ]
  },
  {
   "cell_type": "code",
   "execution_count": 25,
   "id": "ba4ea962-d475-4925-959f-a8bc81fb0185",
   "metadata": {
    "tags": []
   },
   "outputs": [],
   "source": [
    "x_test = []\n",
    "for i in range(60,185):\n",
    "    x_test.append(inputs[i-60:i,0])"
   ]
  },
  {
   "cell_type": "code",
   "execution_count": 26,
   "id": "9eef156e-b4ac-47a2-b884-498cab97b5f8",
   "metadata": {
    "tags": []
   },
   "outputs": [
    {
     "data": {
      "text/plain": [
       "(125, 60)"
      ]
     },
     "execution_count": 26,
     "metadata": {},
     "output_type": "execute_result"
    }
   ],
   "source": [
    "x_test = np.array(x_test)\n",
    "x_test.shape"
   ]
  },
  {
   "cell_type": "code",
   "execution_count": 27,
   "id": "3b9537ba-6052-49c1-b5f8-e943178ea600",
   "metadata": {
    "tags": []
   },
   "outputs": [
    {
     "data": {
      "text/plain": [
       "(125, 60, 1)"
      ]
     },
     "execution_count": 27,
     "metadata": {},
     "output_type": "execute_result"
    }
   ],
   "source": [
    "x_test = np.reshape(x_test, (x_test.shape[0],x_test.shape[1],1))\n",
    "x_test.shape"
   ]
  },
  {
   "cell_type": "code",
   "execution_count": 28,
   "id": "18fb0dae-66b0-45e5-a402-1336c803dded",
   "metadata": {
    "tags": []
   },
   "outputs": [
    {
     "name": "stdout",
     "output_type": "stream",
     "text": [
      "4/4 [==============================] - 2s 30ms/step\n"
     ]
    }
   ],
   "source": [
    "pred = model.predict(x_test)"
   ]
  },
  {
   "cell_type": "code",
   "execution_count": 30,
   "id": "fe30fbe7-f1d2-4bf0-8291-430fbae67ed0",
   "metadata": {
    "tags": []
   },
   "outputs": [],
   "source": [
    "pred = sc.inverse_transform(pred)\n"
   ]
  },
  {
   "cell_type": "code",
   "execution_count": 31,
   "id": "cb288bcb-65a1-4b57-9491-adf9ebd564b8",
   "metadata": {
    "scrolled": true,
    "tags": []
   },
   "outputs": [
    {
     "data": {
      "text/plain": [
       "array([[1023.1278 ],\n",
       "       [1022.17096],\n",
       "       [1028.5076 ],\n",
       "       [1043.2834 ],\n",
       "       [1056.4019 ],\n",
       "       [1066.4242 ],\n",
       "       [1073.5969 ],\n",
       "       [1071.8903 ],\n",
       "       [1071.5466 ],\n",
       "       [1069.9988 ],\n",
       "       [1080.0739 ],\n",
       "       [1086.739  ],\n",
       "       [1091.836  ],\n",
       "       [1094.5354 ],\n",
       "       [1097.6049 ],\n",
       "       [1107.8461 ],\n",
       "       [1122.1617 ],\n",
       "       [1129.6683 ],\n",
       "       [1133.0658 ],\n",
       "       [1134.2701 ],\n",
       "       [1131.1443 ],\n",
       "       [1129.3611 ],\n",
       "       [1125.9967 ],\n",
       "       [1109.0898 ],\n",
       "       [1084.6666 ],\n",
       "       [1045.5961 ],\n",
       "       [1039.9352 ],\n",
       "       [1037.0913 ],\n",
       "       [1023.23016],\n",
       "       [1024.116  ],\n",
       "       [1027.5745 ],\n",
       "       [1031.6726 ],\n",
       "       [1044.932  ],\n",
       "       [1057.7445 ],\n",
       "       [1064.908  ],\n",
       "       [1072.3494 ],\n",
       "       [1079.2582 ],\n",
       "       [1080.945  ],\n",
       "       [1085.548  ],\n",
       "       [1093.5598 ],\n",
       "       [1092.1632 ],\n",
       "       [1083.267  ],\n",
       "       [1055.8922 ],\n",
       "       [1043.58   ],\n",
       "       [1050.2928 ],\n",
       "       [1056.6406 ],\n",
       "       [1070.7863 ],\n",
       "       [1088.8956 ],\n",
       "       [1110.517  ],\n",
       "       [1125.5006 ],\n",
       "       [1122.4603 ],\n",
       "       [1116.953  ],\n",
       "       [1114.0563 ],\n",
       "       [1100.3876 ],\n",
       "       [1082.173  ],\n",
       "       [1068.5669 ],\n",
       "       [1058.6975 ],\n",
       "       [1041.9818 ],\n",
       "       [1030.8933 ],\n",
       "       [1033.011  ],\n",
       "       [1014.19226],\n",
       "       [1002.8525 ],\n",
       "       [1002.3708 ],\n",
       "       [1001.8055 ],\n",
       "       [ 993.6613 ],\n",
       "       [1004.337  ],\n",
       "       [1007.17194],\n",
       "       [1005.0045 ],\n",
       "       [1005.1817 ],\n",
       "       [1005.8358 ],\n",
       "       [1004.75653],\n",
       "       [1009.2071 ],\n",
       "       [1011.56555],\n",
       "       [1017.58856],\n",
       "       [1031.6764 ],\n",
       "       [1038.8427 ],\n",
       "       [1045.6588 ],\n",
       "       [1047.6299 ],\n",
       "       [1037.6213 ],\n",
       "       [1018.5722 ],\n",
       "       [1006.5816 ],\n",
       "       [1008.2686 ],\n",
       "       [1007.81396],\n",
       "       [1001.55176],\n",
       "       [1002.0892 ],\n",
       "       [1001.06177],\n",
       "       [ 999.41003],\n",
       "       [1010.38434],\n",
       "       [1023.56946],\n",
       "       [1031.429  ],\n",
       "       [1044.5015 ],\n",
       "       [1055.6472 ],\n",
       "       [1063.4037 ],\n",
       "       [1062.6803 ],\n",
       "       [1054.8324 ],\n",
       "       [1049.1134 ],\n",
       "       [1039.7725 ],\n",
       "       [1038.416  ],\n",
       "       [1043.936  ],\n",
       "       [1042.7281 ],\n",
       "       [1045.8627 ],\n",
       "       [1049.0427 ],\n",
       "       [1045.7865 ],\n",
       "       [1041.4895 ],\n",
       "       [1040.3612 ],\n",
       "       [1052.5138 ],\n",
       "       [1071.7202 ],\n",
       "       [1091.4843 ],\n",
       "       [1102.9652 ],\n",
       "       [1102.7227 ],\n",
       "       [1093.9628 ],\n",
       "       [1086.3844 ],\n",
       "       [1086.9896 ],\n",
       "       [1093.6655 ],\n",
       "       [1100.637  ],\n",
       "       [1106.9609 ],\n",
       "       [1108.6713 ],\n",
       "       [1114.0383 ],\n",
       "       [1124.306  ],\n",
       "       [1131.3082 ],\n",
       "       [1128.6442 ],\n",
       "       [1118.7711 ],\n",
       "       [1105.4222 ],\n",
       "       [1094.6008 ],\n",
       "       [1082.4126 ]], dtype=float32)"
      ]
     },
     "execution_count": 31,
     "metadata": {},
     "output_type": "execute_result"
    }
   ],
   "source": [
    "pred"
   ]
  },
  {
   "cell_type": "code",
   "execution_count": 33,
   "id": "8bc77647-dd35-4549-a678-dc9bb0922cb4",
   "metadata": {
    "tags": []
   },
   "outputs": [],
   "source": [
    "import matplotlib.pyplot as plt"
   ]
  },
  {
   "cell_type": "code",
   "execution_count": 35,
   "id": "5ee8a41a-2273-47d7-b6c1-d531e63f1f7d",
   "metadata": {
    "tags": []
   },
   "outputs": [
    {
     "data": {
      "image/png": "[encoded data removed]",
      "text/plain": [
       "<Figure size 640x480 with 1 Axes>"
      ]
     },
     "metadata": {},
     "output_type": "display_data"
    }
   ],
   "source": [
    "plt.plot(real_stock_price,color = 'red', label = 'Real Price')\n",
    "plt.plot(pred, color = 'blue', label = 'Predicted Price')\n",
    "plt.title('Google Stock Price Prediction')\n",
    "plt.xlabel('Time')\n",
    "plt.ylabel('Google Stock Price')\n",
    "plt.legend()\n",
    "plt.show()"
   ]
  },
  {
   "cell_type": "code",
   "execution_count": null,
   "id": "fd1ece22-ccb9-498b-a103-36714e8a9d4a",
   "metadata": {},
   "outputs": [],
   "source": []
  }
 ],
 "metadata": {
  "kernelspec": {
   "display_name": "Python 3 (ipykernel)",
   "language": "python",
   "name": "python3"
  },
  "language_info": {
   "codemirror_mode": {
    "name": "ipython",
    "version": 3
   },
   "file_extension": ".py",
   "mimetype": "text/x-python",
   "name": "python",
   "nbconvert_exporter": "python",
   "pygments_lexer": "ipython3",
   "version": "3.11.4"
  }
 },
 "nbformat": 4,
 "nbformat_minor": 5
}
